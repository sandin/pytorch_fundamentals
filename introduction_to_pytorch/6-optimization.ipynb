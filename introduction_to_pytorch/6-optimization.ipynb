{
 "cells": [
  {
   "cell_type": "markdown",
   "metadata": {},
   "source": [
    "# Optimizing the model parameters\n",
    "\n",
    "Now that we have a model and data it's time to train, validate, and test our model by optimizing its parameters on our data. Training a model is an iterative process; in each iteration (*epoch*). The model makes a guess about the output, calculates the error in its guess (*loss*), collects the derivatives of the error with respect to its parameters (as we saw in the previous module), and **optimizes** these parameters using gradient descent. \n",
    "\n",
    "## Prerequisite code \n",
    "\n",
    "We'll load the code from the previous modules on **Datasets & DataLoaders** and **Build Model**."
   ]
  },
  {
   "cell_type": "code",
   "execution_count": 2,
   "metadata": {},
   "outputs": [],
   "source": [
    "%matplotlib inline\n",
    "import torch\n",
    "from torch import nn\n",
    "from torch.utils.data import DataLoader\n",
    "from torchvision import datasets\n",
    "from torchvision.transforms import ToTensor, Lambda\n",
    "\n",
    "training_data = datasets.FashionMNIST(\n",
    "    root=\"data\",\n",
    "    train=True,\n",
    "    download=True,\n",
    "    transform=ToTensor()\n",
    ")\n",
    "\n",
    "test_data = datasets.FashionMNIST(\n",
    "    root=\"data\",\n",
    "    train=False,\n",
    "    download=True,\n",
    "    transform=ToTensor()\n",
    ")\n",
    "\n",
    "train_dataloader = DataLoader(training_data, batch_size=64)\n",
    "test_dataloader = DataLoader(test_data, batch_size=64)\n",
    "\n",
    "class NeuralNetwork(nn.Module):\n",
    "    def __init__(self):\n",
    "        super(NeuralNetwork, self).__init__()\n",
    "        self.flatten = nn.Flatten()\n",
    "        self.linear_relu_stack = nn.Sequential(\n",
    "            nn.Linear(28*28, 512),\n",
    "            nn.ReLU(),\n",
    "            nn.Linear(512, 512),\n",
    "            nn.ReLU(),\n",
    "            nn.Linear(512, 10),\n",
    "            nn.ReLU()\n",
    "        )\n",
    "\n",
    "    def forward(self, x):\n",
    "        x = self.flatten(x)\n",
    "        logits = self.linear_relu_stack(x)\n",
    "        return logits\n",
    "\n",
    "model = NeuralNetwork()"
   ]
  },
  {
   "cell_type": "markdown",
   "metadata": {},
   "source": [
    "## Setting hyperparameters \n",
    "\n",
    "Hyperparameters are adjustable parameters that let you control the model optimization process. \n",
    "Different hyperparameter values can impact model training and the level of accuracy.\n",
    "\n",
    "We define the following hyperparameters for training:\n",
    " - **Number of Epochs** - the number times the entire training dataset is passed through the network. \n",
    " - **Batch Size** - the number of data samples seen by the model in each epoch. Iterates over the number of batches needed to complete an epoch.\n",
    " - **Learning Rate** - the size of steps that the model matches as it searches for the best weights that will produce a higher model accuracy. Smaller values means the model will take a longer time to find the best weights. Larger values may result in the model stepping over and missing the best weights, which yields unpredictable behavior during training."
   ]
  },
  {
   "cell_type": "code",
   "execution_count": 3,
   "metadata": {},
   "outputs": [],
   "source": [
    "learning_rate = 1e-3\n",
    "batch_size = 64\n",
    "epochs = 5"
   ]
  },
  {
   "cell_type": "markdown",
   "metadata": {},
   "source": [
    "## Add an optimization loop\n",
    "\n",
    "Once we set our hyperparameters, we can then train and optimize our model with an optimization loop. Each iteration of the optimization loop is called an **epoch**. \n",
    "\n",
    "Each epoch consists of two main parts:\n",
    " - **The Train Loop** - iterate over the training dataset and try to converge to optimal parameters.\n",
    " - **The Validation/Test Loop** - iterate over the test dataset to check if model performance is improving.\n",
    "\n",
    "Let's examine some of the concepts used in the training loop. Jump ahead to see the full implementation of the optimization loop.\n",
    "\n",
    "### Add a loss function\n",
    "\n",
    "When presented with some training data, our untrained network is likely not to give the correct answer. A **loss function** measures the degree of dissimilarity of an obtained result to the target value, and it is the loss function that we want to minimize during training. To calculate the loss we make a prediction using the inputs of our given data sample and compare it against the true data label value.\n",
    "\n",
    "Common loss functions include:\n",
    "\n",
    "- `nn.MSELoss` (Mean Square Error) used for regression tasks\n",
    "- `nn.NLLLoss` (Negative Log Likelihood) used for classification\n",
    "- `nn.CrossEntropyLoss` combines `nn.LogSoftmax` and `nn.NLLLoss`\n",
    "\n",
    "We pass our model's output logits to `nn.CrossEntropyLoss`, which will normalize the logits and compute the prediction error."
   ]
  },
  {
   "cell_type": "code",
   "execution_count": 4,
   "metadata": {},
   "outputs": [],
   "source": [
    "# Initialize the loss function\n",
    "loss_fn = nn.CrossEntropyLoss()"
   ]
  },
  {
   "cell_type": "markdown",
   "metadata": {},
   "source": [
    "### Optimization pass\n",
    "\n",
    "Optimization is the process of adjusting model parameters to reduce model error in each training step. **Optimization algorithms** define how this process is performed (in this example we use *Stochastic Gradient Descent*).\n",
    "All optimization logic is encapsulated in  the `optimizer` object. Here, we use the SGD optimizer; there are many different optimizers\n",
    "available in PyTorch such as `ADAM` and `RMSProp`, that are suited for different kinds of models and data.\n",
    "\n",
    "We initialize the optimizer by registering the model's parameters that need to be trained, and passing in the learning rate hyperparameter."
   ]
  },
  {
   "cell_type": "code",
   "execution_count": 5,
   "metadata": {},
   "outputs": [],
   "source": [
    "optimizer = torch.optim.SGD(model.parameters(), lr=learning_rate)"
   ]
  },
  {
   "cell_type": "markdown",
   "metadata": {},
   "source": [
    "Inside the training loop, optimization happens in three steps:\n",
    " * Call `optimizer.zero_grad()` to reset the gradients of model parameters. Gradients by default add up; to prevent double-counting, we explicitly zero them at each iteration.\n",
    " * Back-propagate the prediction loss with a call to `loss.backwards()`. PyTorch deposits the gradients of the loss with respect to each parameter. \n",
    " * Once we have our gradients, we call `optimizer.step()` to adjust the parameters by the gradients collected in the backward pass."
   ]
  },
  {
   "cell_type": "markdown",
   "metadata": {},
   "source": [
    "## Full implementation\n",
    "\n",
    "We define a `train_loop` function that loops over our optimization code, and a `test_loop` function that \n",
    "evaluates the model's performance against our test data."
   ]
  },
  {
   "cell_type": "code",
   "execution_count": 6,
   "metadata": {},
   "outputs": [],
   "source": [
    "def train_loop(dataloader, model, loss_fn, optimizer):\n",
    "    size = len(dataloader.dataset)\n",
    "    for batch, (X, y) in enumerate(dataloader):        \n",
    "        # Compute prediction and loss\n",
    "        pred = model(X)\n",
    "        loss = loss_fn(pred, y)\n",
    "        \n",
    "        # Backpropagation\n",
    "        optimizer.zero_grad()\n",
    "        loss.backward()\n",
    "        optimizer.step()\n",
    "\n",
    "        if batch % 100 == 0:\n",
    "            loss, current = loss.item(), batch * len(X)\n",
    "            print(f\"loss: {loss:>7f}  [{current:>5d}/{size:>5d}]\")\n",
    "\n",
    "\n",
    "def test_loop(dataloader, model, loss_fn):\n",
    "    size = len(dataloader.dataset)\n",
    "    test_loss, correct = 0, 0\n",
    "\n",
    "    with torch.no_grad():\n",
    "        for X, y in dataloader:\n",
    "            pred = model(X)\n",
    "            test_loss += loss_fn(pred, y).item()\n",
    "            correct += (pred.argmax(1) == y).type(torch.float).sum().item()\n",
    "            \n",
    "    test_loss /= size\n",
    "    correct /= size\n",
    "    print(f\"Test Error: \\n Accuracy: {(100*correct):>0.1f}%, Avg loss: {test_loss:>8f} \\n\")"
   ]
  },
  {
   "cell_type": "markdown",
   "metadata": {},
   "source": [
    "We initialize the loss function and optimizer, and pass it to `train_loop` and `test_loop`.\n",
    "Feel free to increase the number of epochs to track the model's improving performance."
   ]
  },
  {
   "cell_type": "code",
   "execution_count": 7,
   "metadata": {},
   "outputs": [
    {
     "name": "stdout",
     "output_type": "stream",
     "text": [
      "Epoch 1\n",
      "-------------------------------\n",
      "loss: 2.305503  [    0/60000]\n",
      "loss: 2.297838  [ 6400/60000]\n",
      "loss: 2.290400  [12800/60000]\n",
      "loss: 2.281542  [19200/60000]\n",
      "loss: 2.280689  [25600/60000]\n",
      "loss: 2.294924  [32000/60000]\n",
      "loss: 2.264018  [38400/60000]\n",
      "loss: 2.277041  [44800/60000]\n",
      "loss: 2.263464  [51200/60000]\n",
      "loss: 2.243937  [57600/60000]\n",
      "Test Error: \n",
      " Accuracy: 37.3%, Avg loss: 0.035259 \n",
      "\n",
      "Epoch 2\n",
      "-------------------------------\n",
      "loss: 2.261461  [    0/60000]\n",
      "loss: 2.249669  [ 6400/60000]\n",
      "loss: 2.228210  [12800/60000]\n",
      "loss: 2.208735  [19200/60000]\n",
      "loss: 2.222824  [25600/60000]\n",
      "loss: 2.251678  [32000/60000]\n",
      "loss: 2.190398  [38400/60000]\n",
      "loss: 2.217079  [44800/60000]\n",
      "loss: 2.187503  [51200/60000]\n",
      "loss: 2.164267  [57600/60000]\n",
      "Test Error: \n",
      " Accuracy: 36.1%, Avg loss: 0.033987 \n",
      "\n",
      "Epoch 3\n",
      "-------------------------------\n",
      "loss: 2.194178  [    0/60000]\n",
      "loss: 2.174222  [ 6400/60000]\n",
      "loss: 2.126518  [12800/60000]\n",
      "loss: 2.093651  [19200/60000]\n",
      "loss: 2.122310  [25600/60000]\n",
      "loss: 2.180831  [32000/60000]\n",
      "loss: 2.062068  [38400/60000]\n",
      "loss: 2.109870  [44800/60000]\n",
      "loss: 2.047509  [51200/60000]\n",
      "loss: 2.032912  [57600/60000]\n",
      "Test Error: \n",
      " Accuracy: 37.9%, Avg loss: 0.031736 \n",
      "\n",
      "Epoch 4\n",
      "-------------------------------\n",
      "loss: 2.060193  [    0/60000]\n",
      "loss: 2.026108  [ 6400/60000]\n",
      "loss: 1.972408  [12800/60000]\n",
      "loss: 1.934772  [19200/60000]\n",
      "loss: 1.967309  [25600/60000]\n",
      "loss: 2.080160  [32000/60000]\n",
      "loss: 1.886943  [38400/60000]\n",
      "loss: 1.974473  [44800/60000]\n",
      "loss: 1.876111  [51200/60000]\n",
      "loss: 1.875429  [57600/60000]\n",
      "Test Error: \n",
      " Accuracy: 45.3%, Avg loss: 0.029072 \n",
      "\n",
      "Epoch 5\n",
      "-------------------------------\n",
      "loss: 1.882667  [    0/60000]\n",
      "loss: 1.858494  [ 6400/60000]\n",
      "loss: 1.785826  [12800/60000]\n",
      "loss: 1.770210  [19200/60000]\n",
      "loss: 1.816061  [25600/60000]\n",
      "loss: 1.914338  [32000/60000]\n",
      "loss: 1.666171  [38400/60000]\n",
      "loss: 1.755971  [44800/60000]\n",
      "loss: 1.676204  [51200/60000]\n",
      "loss: 1.715622  [57600/60000]\n",
      "Test Error: \n",
      " Accuracy: 54.1%, Avg loss: 0.026364 \n",
      "\n",
      "Epoch 6\n",
      "-------------------------------\n",
      "loss: 1.682844  [    0/60000]\n",
      "loss: 1.707826  [ 6400/60000]\n",
      "loss: 1.616062  [12800/60000]\n",
      "loss: 1.633062  [19200/60000]\n",
      "loss: 1.687711  [25600/60000]\n",
      "loss: 1.792029  [32000/60000]\n",
      "loss: 1.512236  [38400/60000]\n",
      "loss: 1.621692  [44800/60000]\n",
      "loss: 1.542421  [51200/60000]\n",
      "loss: 1.610936  [57600/60000]\n",
      "Test Error: \n",
      " Accuracy: 56.7%, Avg loss: 0.024499 \n",
      "\n",
      "Epoch 7\n",
      "-------------------------------\n",
      "loss: 1.547224  [    0/60000]\n",
      "loss: 1.596417  [ 6400/60000]\n",
      "loss: 1.489916  [12800/60000]\n",
      "loss: 1.533143  [19200/60000]\n",
      "loss: 1.582904  [25600/60000]\n",
      "loss: 1.694335  [32000/60000]\n",
      "loss: 1.408082  [38400/60000]\n",
      "loss: 1.526616  [44800/60000]\n",
      "loss: 1.445363  [51200/60000]\n",
      "loss: 1.534058  [57600/60000]\n",
      "Test Error: \n",
      " Accuracy: 57.7%, Avg loss: 0.023089 \n",
      "\n",
      "Epoch 8\n",
      "-------------------------------\n",
      "loss: 1.445094  [    0/60000]\n",
      "loss: 1.512173  [ 6400/60000]\n",
      "loss: 1.391588  [12800/60000]\n",
      "loss: 1.457666  [19200/60000]\n",
      "loss: 1.500612  [25600/60000]\n",
      "loss: 1.612152  [32000/60000]\n",
      "loss: 1.330556  [38400/60000]\n",
      "loss: 1.453367  [44800/60000]\n",
      "loss: 1.372519  [51200/60000]\n",
      "loss: 1.475407  [57600/60000]\n",
      "Test Error: \n",
      " Accuracy: 58.6%, Avg loss: 0.021994 \n",
      "\n",
      "Epoch 9\n",
      "-------------------------------\n",
      "loss: 1.364775  [    0/60000]\n",
      "loss: 1.445447  [ 6400/60000]\n",
      "loss: 1.315166  [12800/60000]\n",
      "loss: 1.399706  [19200/60000]\n",
      "loss: 1.436568  [25600/60000]\n",
      "loss: 1.544643  [32000/60000]\n",
      "loss: 1.270205  [38400/60000]\n",
      "loss: 1.398443  [44800/60000]\n",
      "loss: 1.316768  [51200/60000]\n",
      "loss: 1.431202  [57600/60000]\n",
      "Test Error: \n",
      " Accuracy: 59.3%, Avg loss: 0.021145 \n",
      "\n",
      "Epoch 10\n",
      "-------------------------------\n",
      "loss: 1.300226  [    0/60000]\n",
      "loss: 1.391958  [ 6400/60000]\n",
      "loss: 1.256259  [12800/60000]\n",
      "loss: 1.353476  [19200/60000]\n",
      "loss: 1.386060  [25600/60000]\n",
      "loss: 1.490243  [32000/60000]\n",
      "loss: 1.222796  [38400/60000]\n",
      "loss: 1.357756  [44800/60000]\n",
      "loss: 1.273562  [51200/60000]\n",
      "loss: 1.395677  [57600/60000]\n",
      "Test Error: \n",
      " Accuracy: 60.1%, Avg loss: 0.020479 \n",
      "\n",
      "Done!\n"
     ]
    }
   ],
   "source": [
    "loss_fn = nn.CrossEntropyLoss()\n",
    "optimizer = torch.optim.SGD(model.parameters(), lr=learning_rate)\n",
    "\n",
    "epochs = 10\n",
    "for t in range(epochs):\n",
    "    print(f\"Epoch {t+1}\\n-------------------------------\")\n",
    "    train_loop(train_dataloader, model, loss_fn, optimizer)\n",
    "    test_loop(test_dataloader, model, loss_fn)\n",
    "print(\"Done!\")"
   ]
  },
  {
   "cell_type": "markdown",
   "metadata": {},
   "source": [
    "You may have noticed that the model is initially not very good (that's OK!). Try running the loop for more `epochs` or adjusting the `learning_rate` to a bigger number. It might also be the case that the model configuration we chose might not be the optimal one for this kind of problem (it isn't). Later courses will delve more into the model shapes that work for vision problems.\n"
   ]
  },
  {
   "cell_type": "markdown",
   "metadata": {},
   "source": [
    "Saving Models\n",
    "-------------\n",
    "\n",
    "When you are satisfied with the model's performance, you can use `torch.save` to save it. PyTorch models store the learned parameters in an internal state dictionary, called `state_dict`. These can be persisted wit the `torch.save` method:"
   ]
  },
  {
   "cell_type": "code",
   "execution_count": 9,
   "metadata": {},
   "outputs": [
    {
     "name": "stdout",
     "output_type": "stream",
     "text": [
      "Saved PyTorch Model State to model.pth\n"
     ]
    }
   ],
   "source": [
    "torch.save(model.state_dict(), \"data/model.pth\")\n",
    "\n",
    "print(\"Saved PyTorch Model State to model.pth\")"
   ]
  },
  {
   "cell_type": "code",
   "execution_count": null,
   "metadata": {},
   "outputs": [],
   "source": []
  }
 ],
 "metadata": {
  "kernelspec": {
   "display_name": "Python 3 (ipykernel)",
   "language": "python",
   "name": "python3"
  },
  "language_info": {
   "codemirror_mode": {
    "name": "ipython",
    "version": 3
   },
   "file_extension": ".py",
   "mimetype": "text/x-python",
   "name": "python",
   "nbconvert_exporter": "python",
   "pygments_lexer": "ipython3",
   "version": "3.8.10"
  },
  "nteract": {
   "version": "nteract-front-end@1.0.0"
  }
 },
 "nbformat": 4,
 "nbformat_minor": 4
}

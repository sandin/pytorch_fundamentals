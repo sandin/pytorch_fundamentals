{
 "cells": [
  {
   "attachments": {},
   "cell_type": "markdown",
   "metadata": {},
   "source": [
    "# What is a neural network\n",
    "\n",
    "A neural network is a collection of **neurons** that are connected by layers. Each neuron is a small\n",
    "computing unit that performs simple calculations to collectively solve a problem. Neurons are \n",
    "organized in 3 types of layers: input layer, hidden layer, and \n",
    "output layer.  The hidden and output layers contain a number of neurons. Neural networks mimic the way a human brain processes information.\n",
    "\n",
    "<img alt=\"Diagram showing the different types of layers in a neural network.\" src=\"../images/4-model-1.png\" />"
   ]
  },
  {
   "cell_type": "markdown",
   "metadata": {},
   "source": [
    "## Components of a neural network\n",
    "\n",
    "- An **activation function** determines whether a neuron should be activated or not. The computations that happen in a neural network include applying an activation function. If a neuron activates, then it means the input is important. There are different kinds of activation functions. The choice of which activation function to use depends on what you want the output to be. Another important role of an activation function is to add non-linearity to the model.\n",
    "\n",
    "    - _Binary_ is used to set an output node to 1 if the function result is positive and 0 if the function result is zero or negative. $f(x)= {\\small \\begin{cases} 0, & \\text{if } x < 0\\\\ 1, & \\text{if } x\\geq 0\\\\ \\end{cases}}$\n",
    "    - _Sigmoid_ is used to predict the probability of an output node being between 0 and 1.  $f(x) = {\\large \\frac{1}{1+e^{-x}}} $\n",
    "    - _Tanh_ is used to predict whether an output node is between 1 and -1, for classification use cases.  $f(x) = {\\large \\frac{e^{x} - e^{-x}}{e^{x} + e^{-x}}} $\n",
    "    - _ReLU_ (*rectified linear activation function*) is used to set the output node to 0 if the function result is negative and keeps the result value if the result is a positive value.  $f(x)= {\\small \\begin{cases} 0, & \\text{if } x < 0\\\\ x, & \\text{if } x\\geq 0\\\\ \\end{cases}}$\n",
    "- **Weights** influence how close the output of our network is to the expected output value. As an input enters the neuron, it gets multiplied by a weight value and the resulting output is either observed, or passed to the next layer in the neural network. Weights for all neurons in a layer are organized into one tensor.\n",
    "- **Bias** makes up the difference between the activation function's output and its intended output. A low bias suggest that the network is making more assumptions about the form of the output, whereas a high bias value makes fewer assumptions about the form of the output. \n",
    "\n",
    "<img alt=\"Diagram showing neural computation.\" src=\"../images/4-model-2.png\" />\n",
    "\n",
    "We can say that an output $y$ of a neural network layer with weights $W$ and bias $b$ is computed as summation of the inputs multiplied by the weights plus the bias. $x = \\sum{(weights * inputs) + bias} $, where $f(x)$ is the activation function."
   ]
  },
  {
   "cell_type": "markdown",
   "metadata": {},
   "source": [
    "# Build a neural network\n",
    "\n",
    "Neural networks are comprised of layers and modules that perform operations on data. The `torch.nn` namespace provides all the building blocks you'll need to build your own neural network. Every module in PyTorch subclasses `nn.Module`. A neural network is itself a module that consists of other modules (layers). This nested structure allows for building and managing complex architectures easily.\n",
    "\n",
    "In the following sections, we'll build a neural network to classify images in the FashionMNIST dataset."
   ]
  },
  {
   "cell_type": "code",
   "execution_count": 14,
   "metadata": {},
   "outputs": [],
   "source": [
    "%matplotlib inline\n",
    "import os\n",
    "import torch\n",
    "from torch import nn\n",
    "from torch.utils.data import DataLoader\n",
    "from torchvision import datasets, transforms"
   ]
  },
  {
   "cell_type": "markdown",
   "metadata": {},
   "source": [
    "## Get a hardware device for training\n",
    "\n",
    "We want to be able to train our model on a hardware accelerator like a GPU, if one is available. Let's check to see whether \n",
    "`torch.cuda` is available; if not, we'll continue to use the CPU."
   ]
  },
  {
   "cell_type": "code",
   "execution_count": 26,
   "metadata": {},
   "outputs": [
    {
     "name": "stdout",
     "output_type": "stream",
     "text": [
      "Using cuda device\n",
      "Cuda version: 11.8\n",
      "GPU name: NVIDIA GeForce RTX 4070 Ti\n"
     ]
    }
   ],
   "source": [
    "device = 'cuda' if torch.cuda.is_available() else 'cpu'\n",
    "print('Using {} device'.format(device))\n",
    "print(\"Cuda version: %s\" % torch.version.cuda)\n",
    "print(\"GPU name: %s\" % torch.cuda.get_device_name())"
   ]
  },
  {
   "cell_type": "markdown",
   "metadata": {},
   "source": [
    "## Define the class\n",
    "\n",
    "We define our neural network by subclassing `nn.Module`, and initialize the neural network layers in `__init__`. Every `nn.Module` subclass implements the operations on input data in the `forward` method.\n",
    "\n",
    "Our neural network is composed of the following:\n",
    "\n",
    "- The input layer with 28x28 or 784 features/pixels.\n",
    "- The first linear module takes the input 784 features and transforms it to a hidden layer with 512 features.\n",
    "- The ReLU activation function will be applied in the transformation.\n",
    "- The second linear module takes 512 features as input from the first hidden layer and transforms it to the next hidden layer with 512 features.\n",
    "- The ReLU activation function will be applied in the transformation.\n",
    "- The third linear module take 512 features as input from the second hidden layer and transforms those features to the output layer with 10, which is the number of classes.\n",
    "- The ReLU activation function will be applied in the transformation."
   ]
  },
  {
   "cell_type": "code",
   "execution_count": 16,
   "metadata": {},
   "outputs": [],
   "source": [
    "class NeuralNetwork(nn.Module):\n",
    "    def __init__(self):\n",
    "        super(NeuralNetwork, self).__init__()\n",
    "        self.flatten = nn.Flatten()\n",
    "        self.linear_relu_stack = nn.Sequential(\n",
    "            nn.Linear(28*28, 512),\n",
    "            nn.ReLU(),\n",
    "            nn.Linear(512, 512),\n",
    "            nn.ReLU(),\n",
    "            nn.Linear(512, 10),\n",
    "            nn.ReLU()\n",
    "        )\n",
    "\n",
    "    def forward(self, x):\n",
    "        x = self.flatten(x)\n",
    "        logits = self.linear_relu_stack(x)\n",
    "        return logits"
   ]
  },
  {
   "cell_type": "markdown",
   "metadata": {},
   "source": [
    "We create an instance of `NeuralNetwork`, and move it to the `device`, and print \n",
    "its structure."
   ]
  },
  {
   "cell_type": "code",
   "execution_count": 4,
   "metadata": {},
   "outputs": [
    {
     "name": "stdout",
     "output_type": "stream",
     "text": [
      "NeuralNetwork(\n",
      "  (flatten): Flatten(start_dim=1, end_dim=-1)\n",
      "  (linear_relu_stack): Sequential(\n",
      "    (0): Linear(in_features=784, out_features=512, bias=True)\n",
      "    (1): ReLU()\n",
      "    (2): Linear(in_features=512, out_features=512, bias=True)\n",
      "    (3): ReLU()\n",
      "    (4): Linear(in_features=512, out_features=10, bias=True)\n",
      "    (5): ReLU()\n",
      "  )\n",
      ")\n"
     ]
    }
   ],
   "source": [
    "model = NeuralNetwork().to(device)\n",
    "print(model)"
   ]
  },
  {
   "cell_type": "markdown",
   "metadata": {},
   "source": [
    "To use the model, we pass it the input data. This executes the model's `forward`, along with some background operations. However, do not call `model.forward()` directly! Calling the model on the input returns a 10-dimensional tensor with raw predicted values for each class.\n",
    "\n",
    "We get the prediction densities by passing it through an instance of the `nn.Softmax`."
   ]
  },
  {
   "cell_type": "code",
   "execution_count": 28,
   "metadata": {},
   "outputs": [
    {
     "name": "stdout",
     "output_type": "stream",
     "text": [
      "logits tensor([[0.0000, 0.0000, 0.0062, 0.0552, 0.0000, 0.0000, 0.0000, 0.0000, 0.0000,\n",
      "         0.0452]], device='cuda:0', grad_fn=<ReluBackward0>)\n",
      "pred_probab tensor([[0.0989, 0.0989, 0.0995, 0.1045, 0.0989, 0.0989, 0.0989, 0.0989, 0.0989,\n",
      "         0.1035]], device='cuda:0', grad_fn=<SoftmaxBackward0>)\n",
      "Predicted class: tensor([3], device='cuda:0')\n"
     ]
    }
   ],
   "source": [
    "X = torch.rand(1, 28, 28, device=device)\n",
    "logits = model(X) \n",
    "print(\"logits\", logits)\n",
    "pred_probab = nn.Softmax(dim=1)(logits)\n",
    "print(\"pred_probab\", pred_probab)\n",
    "y_pred = pred_probab.argmax(1)\n",
    "print(f\"Predicted class: {y_pred}\")"
   ]
  },
  {
   "cell_type": "markdown",
   "metadata": {},
   "source": [
    "## Weight and Bias\n",
    "\n",
    "\n",
    "The `nn.Linear` module randomly initializes the ${weights}$  and ${ bias}$ for each layer and internally stores the values in Tensors."
   ]
  },
  {
   "cell_type": "code",
   "execution_count": 6,
   "metadata": {},
   "outputs": [
    {
     "name": "stdout",
     "output_type": "stream",
     "text": [
      "First Linear weights: Parameter containing:\n",
      "tensor([[ 0.0167, -0.0009, -0.0336,  ...,  0.0272,  0.0033, -0.0320],\n",
      "        [ 0.0187,  0.0308, -0.0194,  ..., -0.0350,  0.0014,  0.0199],\n",
      "        [-0.0044, -0.0241, -0.0203,  ..., -0.0091, -0.0128, -0.0017],\n",
      "        ...,\n",
      "        [-0.0009, -0.0016, -0.0036,  ..., -0.0285, -0.0331, -0.0279],\n",
      "        [ 0.0258,  0.0008,  0.0165,  ..., -0.0077, -0.0085, -0.0111],\n",
      "        [-0.0319, -0.0292,  0.0191,  ..., -0.0301, -0.0054,  0.0105]],\n",
      "       device='cuda:0', requires_grad=True) \n",
      "\n",
      "First Linear biases: Parameter containing:\n",
      "tensor([-2.4628e-02,  2.0984e-02, -1.6524e-02, -2.2039e-03,  4.9102e-03,\n",
      "         5.2819e-03, -2.2629e-03,  2.8336e-02, -1.1998e-02, -3.1871e-02,\n",
      "         1.9267e-02,  1.7888e-02,  6.9509e-03, -1.6409e-03, -2.3306e-02,\n",
      "         5.5465e-03,  2.9492e-02, -2.6501e-02,  3.0893e-02, -2.7018e-02,\n",
      "        -9.8070e-03, -3.1815e-02,  1.0334e-02,  3.2760e-02,  1.1809e-02,\n",
      "         1.7988e-02,  2.3116e-02,  3.1702e-02,  5.2381e-04, -1.5547e-02,\n",
      "        -3.5306e-02, -3.5689e-02,  3.1687e-02,  2.3957e-02, -2.2947e-02,\n",
      "         5.3494e-03,  2.0675e-02, -3.2192e-02, -1.7233e-02,  2.0579e-03,\n",
      "         1.2438e-02, -1.4484e-03,  1.8268e-02, -2.4232e-03,  6.1480e-03,\n",
      "         1.2137e-02, -1.7625e-02,  8.1985e-03,  2.2890e-02, -7.0202e-04,\n",
      "         2.9176e-02,  7.0201e-03, -1.5463e-02,  1.3909e-03, -1.1033e-02,\n",
      "         1.9187e-02, -2.6044e-02, -1.6997e-02, -1.2453e-03,  2.8562e-02,\n",
      "        -1.8175e-02,  3.5313e-02,  1.9914e-02, -7.7749e-03,  7.4863e-04,\n",
      "         2.7125e-02, -1.1410e-02, -3.0407e-02,  4.8795e-04, -2.5569e-02,\n",
      "         1.5886e-02,  2.7093e-02, -2.5746e-02, -2.2033e-02,  2.6108e-02,\n",
      "         1.9810e-02, -5.9815e-03,  3.1318e-02, -3.5350e-02,  1.1723e-02,\n",
      "        -1.1206e-02,  2.8425e-02,  9.3220e-03,  3.5229e-02,  1.6146e-02,\n",
      "         1.2539e-02, -1.2278e-02,  2.1238e-02,  2.0635e-02,  3.2831e-02,\n",
      "         2.3980e-02,  1.5237e-02,  1.0772e-02,  6.3329e-03, -3.1233e-02,\n",
      "        -1.1295e-03,  2.3888e-02,  3.3815e-02, -2.6832e-02, -9.3449e-03,\n",
      "         2.4713e-02, -2.3745e-02, -3.3601e-02,  3.8712e-03,  2.9429e-02,\n",
      "        -2.5762e-02,  2.0001e-03,  2.5792e-02, -9.2392e-03,  3.1242e-02,\n",
      "        -2.5293e-02, -1.9903e-02,  2.0853e-02, -3.1179e-02, -3.1752e-02,\n",
      "        -1.0193e-02,  2.5958e-02,  1.1325e-02, -1.9872e-02, -2.5084e-02,\n",
      "         1.2704e-02, -2.2329e-02,  3.1361e-02,  7.6192e-03,  1.7840e-02,\n",
      "        -1.0870e-03, -2.5215e-02, -5.4868e-03,  2.9217e-03,  1.2357e-02,\n",
      "         2.2999e-02, -2.7930e-02, -2.7134e-02,  2.3803e-02, -3.0917e-02,\n",
      "        -3.2948e-02, -1.4933e-02,  1.2527e-02,  2.2424e-02, -3.4761e-02,\n",
      "        -1.3106e-03, -3.0229e-02, -1.8441e-02,  2.4486e-02, -2.3207e-02,\n",
      "        -1.3056e-02, -3.4703e-02, -3.9034e-03,  1.7869e-02, -8.1395e-03,\n",
      "        -5.1673e-03,  2.7583e-02,  6.1229e-03,  7.6355e-03, -1.3501e-02,\n",
      "        -1.2545e-02,  5.6385e-03, -1.3721e-02, -1.3677e-02,  4.2131e-03,\n",
      "         2.9288e-02, -1.0588e-02, -1.0434e-02,  1.3227e-02,  1.0164e-02,\n",
      "         2.3544e-02, -3.3058e-02,  8.0259e-03,  2.7017e-03,  1.3364e-02,\n",
      "         1.8415e-02, -2.0144e-02, -4.4600e-04,  7.0644e-03,  4.4833e-03,\n",
      "         2.1742e-02, -8.4739e-03, -2.4666e-02,  2.4841e-02,  1.1546e-02,\n",
      "        -2.2592e-02,  3.1892e-02,  2.1817e-02,  1.0037e-02,  2.2355e-02,\n",
      "         8.3954e-03, -9.1612e-04, -9.7273e-03, -2.1197e-02, -3.5092e-03,\n",
      "        -1.6655e-02,  2.7139e-02, -1.5781e-02,  1.5615e-02,  1.3907e-03,\n",
      "         2.0352e-02, -3.1553e-02, -4.6779e-03, -6.4363e-03,  3.1228e-02,\n",
      "        -3.2227e-02, -5.0728e-05,  3.5221e-02,  5.5833e-03,  3.0639e-02,\n",
      "        -2.5077e-03,  2.3115e-02,  2.4082e-02,  1.9852e-03, -7.6180e-03,\n",
      "         6.0593e-03,  1.1497e-02,  4.4035e-03, -1.0565e-02,  1.5605e-02,\n",
      "        -1.2913e-02, -2.3533e-02, -1.6363e-02, -5.7823e-03,  1.8373e-02,\n",
      "        -2.3161e-02, -2.8607e-02, -6.1067e-03, -3.0576e-02,  9.6033e-03,\n",
      "        -1.2983e-02, -2.8686e-02, -2.8798e-02,  3.2894e-02, -2.4572e-02,\n",
      "        -1.5031e-02,  2.3455e-02, -2.9684e-03, -2.3369e-02, -1.8838e-02,\n",
      "        -1.1309e-02, -1.8786e-02,  1.0259e-02, -2.7322e-02,  7.8758e-04,\n",
      "        -2.2335e-02, -1.1973e-03,  2.4208e-02,  1.8662e-02, -5.0607e-03,\n",
      "         2.6430e-02, -9.3616e-03,  2.1046e-02,  2.6788e-02,  2.5178e-02,\n",
      "         1.0058e-02, -3.5686e-03, -3.4683e-02, -1.3626e-02,  1.3450e-02,\n",
      "        -8.9087e-03,  1.9192e-02, -8.2026e-04,  1.8164e-02, -2.3813e-02,\n",
      "        -3.1679e-02, -1.5324e-02, -3.0852e-02,  1.2987e-02, -1.6669e-02,\n",
      "         3.0614e-02, -1.2299e-02,  1.1788e-02, -1.6900e-02, -2.8490e-02,\n",
      "        -2.8998e-02, -9.8690e-03, -2.2049e-02, -1.8808e-02,  3.5082e-02,\n",
      "         3.0077e-02, -1.4978e-02,  3.4463e-02, -2.9819e-02,  2.3426e-02,\n",
      "        -1.1479e-02, -2.5056e-02,  1.0872e-02,  3.2900e-02,  1.7815e-02,\n",
      "        -3.5267e-02,  2.1150e-02,  8.3753e-03,  2.7389e-02, -4.6991e-03,\n",
      "         4.5389e-03,  2.8847e-02, -3.1761e-04,  2.9376e-03, -2.2699e-02,\n",
      "        -3.0192e-03, -9.3240e-03,  1.1941e-02, -1.5412e-02, -2.8272e-02,\n",
      "        -9.9045e-03,  1.5859e-02, -2.6403e-02, -1.4868e-02, -1.6990e-02,\n",
      "        -1.0309e-02, -2.1683e-02, -1.1042e-02, -1.7119e-02,  1.5085e-02,\n",
      "         3.2627e-02,  3.5485e-02,  2.7069e-02,  1.5382e-05,  2.6589e-02,\n",
      "        -1.5742e-02,  7.9641e-03, -2.5456e-02,  2.9743e-02, -2.0180e-02,\n",
      "         1.2949e-02, -8.8083e-03,  2.1938e-02,  1.7126e-03,  1.6931e-03,\n",
      "        -3.1790e-02, -3.0974e-03, -2.8800e-02,  1.3923e-02,  1.2456e-03,\n",
      "        -2.2350e-03,  2.2498e-02,  2.9926e-02,  7.2397e-03,  5.9863e-03,\n",
      "         2.0181e-02, -1.9754e-02,  2.2148e-02, -3.4716e-02,  3.3183e-02,\n",
      "        -3.9527e-04,  1.1437e-02, -3.2799e-02, -9.2531e-03, -2.0762e-02,\n",
      "        -6.0662e-03, -1.1903e-02, -1.9782e-03,  3.4645e-02, -2.5595e-02,\n",
      "         2.3236e-03,  1.6194e-02, -8.4578e-03, -2.9902e-02, -1.6012e-02,\n",
      "        -1.0866e-03,  2.0151e-02,  2.8457e-02, -3.4668e-02,  3.1518e-02,\n",
      "        -1.9818e-02, -3.3217e-02, -2.3124e-03,  2.4093e-02,  1.7000e-02,\n",
      "        -1.7793e-02,  2.8409e-03, -2.3804e-02,  2.2396e-02,  2.1043e-02,\n",
      "        -1.0917e-02,  3.3337e-02, -1.0089e-02,  1.0271e-02,  3.4179e-02,\n",
      "        -2.3335e-02, -2.5479e-02, -3.1222e-02,  1.1760e-02, -2.6793e-02,\n",
      "         2.8834e-02, -8.3905e-03, -5.1825e-03,  1.1410e-02,  3.5633e-03,\n",
      "        -1.6339e-02, -6.0690e-03, -3.0058e-02,  3.4623e-02,  3.0832e-02,\n",
      "         2.9575e-02,  1.8397e-02, -8.9737e-04, -2.2184e-02, -1.6600e-02,\n",
      "         2.9829e-02, -3.2321e-02,  2.8576e-02,  2.1660e-02, -2.7855e-02,\n",
      "         2.8815e-02, -8.6681e-03, -2.6645e-03, -8.8427e-03,  3.4108e-02,\n",
      "        -3.1236e-02,  1.4080e-02, -1.3979e-04, -1.2910e-02, -3.3701e-02,\n",
      "        -3.3301e-02, -2.7505e-02,  1.0084e-02,  1.6538e-02,  1.7802e-02,\n",
      "        -2.4346e-02, -2.0113e-02,  2.8782e-02, -5.6610e-03,  1.9825e-02,\n",
      "         3.0311e-02, -1.5056e-02, -9.3153e-04,  1.5664e-02, -2.1829e-02,\n",
      "        -1.5412e-02, -2.4223e-02,  2.7635e-02,  3.0177e-03,  1.0047e-02,\n",
      "        -3.0890e-02, -3.2023e-02, -2.1881e-02,  3.3274e-02,  2.5358e-03,\n",
      "         1.7847e-04,  1.5307e-03, -3.9402e-03,  1.4857e-02, -3.2094e-02,\n",
      "        -1.8010e-02,  1.3346e-02, -2.1120e-02, -1.3139e-02, -1.0487e-02,\n",
      "         9.8212e-04, -3.1445e-02,  5.8720e-03, -1.5405e-02, -2.2818e-02,\n",
      "        -2.0469e-02, -3.4997e-02, -5.3016e-03,  1.6291e-03,  2.2192e-02,\n",
      "        -2.3413e-02, -1.3096e-02,  4.5928e-04, -2.6273e-02, -7.3799e-03,\n",
      "         6.4913e-04,  6.7309e-03, -1.3301e-02, -2.7293e-02, -1.2210e-02,\n",
      "         2.3758e-03,  1.7485e-02,  2.8120e-02, -9.2536e-03,  1.3837e-03,\n",
      "         3.5332e-02,  3.4020e-03, -9.4548e-03, -4.5046e-03, -3.2524e-02,\n",
      "        -1.0688e-02,  3.3447e-02, -2.9879e-02, -6.7853e-03,  1.6101e-02,\n",
      "         5.8359e-03,  2.8088e-02, -8.2761e-03,  2.8136e-02,  3.4155e-02,\n",
      "        -2.1137e-02,  2.0156e-02,  1.1098e-02,  1.8347e-02, -2.5082e-02,\n",
      "        -1.7203e-02,  4.4926e-03, -3.4413e-03, -2.2670e-02,  9.4808e-03,\n",
      "        -1.4900e-02, -2.8417e-02, -2.7733e-02, -3.3694e-02,  9.9603e-03,\n",
      "         1.8523e-02, -3.4907e-02, -3.5238e-02, -7.6158e-04,  1.1637e-02,\n",
      "        -2.7751e-02, -1.5724e-02, -1.3263e-02,  2.3907e-02,  7.0944e-03,\n",
      "         3.0138e-02, -2.2963e-03], device='cuda:0', requires_grad=True) \n",
      "\n"
     ]
    }
   ],
   "source": [
    "print(f\"First Linear weights: {model.linear_relu_stack[0].weight} \\n\")\n",
    "\n",
    "print(f\"First Linear biases: {model.linear_relu_stack[0].bias} \\n\")"
   ]
  },
  {
   "cell_type": "markdown",
   "metadata": {},
   "source": [
    "## Model layers\n",
    "\n",
    "Let's break down the layers in the FashionMNIST model. To illustrate it, we \n",
    "will take a sample minibatch of 3 images of size **28x28** and see what happens to it as \n",
    "we pass it through the network. "
   ]
  },
  {
   "cell_type": "code",
   "execution_count": 7,
   "metadata": {},
   "outputs": [
    {
     "name": "stdout",
     "output_type": "stream",
     "text": [
      "torch.Size([3, 28, 28])\n"
     ]
    }
   ],
   "source": [
    "input_image = torch.rand(3,28,28)\n",
    "print(input_image.size())"
   ]
  },
  {
   "cell_type": "markdown",
   "metadata": {},
   "source": [
    "### nn.Flatten\n",
    "\n",
    "We initialize the `nn.Flatten` layer to convert each 2D 28x28 image into a contiguous array of 784 pixel values, that is, the minibatch dimension (at dim=0) is maintained. Each of the pixels are passed to the input layer of the neural network.  \n",
    "\n",
    "<img alt=\"Diagram showing how pixels in an image are flattened.\" src=\"../images/4-model-3.png\" />"
   ]
  },
  {
   "cell_type": "code",
   "execution_count": 8,
   "metadata": {},
   "outputs": [
    {
     "name": "stdout",
     "output_type": "stream",
     "text": [
      "torch.Size([3, 784])\n"
     ]
    }
   ],
   "source": [
    "flatten = nn.Flatten()\n",
    "flat_image = flatten(input_image)\n",
    "print(flat_image.size())"
   ]
  },
  {
   "cell_type": "markdown",
   "metadata": {},
   "source": [
    "### nn.Linear \n",
    "\n",
    "The linear layer is a module that applies a linear transformation on the input using its stored weights and biases. The grayscale value of each pixel in the input layer will be connected to neurons in the hidden layer for calculation. The calculation used for the transformation is ${{weight * input + bias}} $.\n"
   ]
  },
  {
   "cell_type": "code",
   "execution_count": 9,
   "metadata": {},
   "outputs": [
    {
     "name": "stdout",
     "output_type": "stream",
     "text": [
      "torch.Size([3, 20])\n"
     ]
    }
   ],
   "source": [
    "layer1 = nn.Linear(in_features=28*28, out_features=20)\n",
    "hidden1 = layer1(flat_image)\n",
    "print(hidden1.size())"
   ]
  },
  {
   "cell_type": "markdown",
   "metadata": {},
   "source": [
    "### nn.ReLU\n",
    "\n",
    "Non-linear activations are what create the complex mappings between the model's inputs and outputs.\n",
    "They are applied after linear transformations to introduce *nonlinearity*, helping neural networks\n",
    "learn a wide variety of phenomena. In this model, we use `nn.ReLU` between our linear layers, but there's other activations to introduce non-linearity in your model.\n",
    "\n",
    "The ReLU activation function takes the output from the linear layer calculation and replaces the negative values with zeros.\n",
    "\n",
    "Linear output: ${ x = {weight * input + bias}} $.  \n",
    "ReLU:  $f(x)= \n",
    "\\begin{cases}\n",
    "    0, & \\text{if } x < 0\\\\\n",
    "    x, & \\text{if } x\\geq 0\\\\\n",
    "\\end{cases}\n",
    "$"
   ]
  },
  {
   "cell_type": "code",
   "execution_count": 10,
   "metadata": {
    "scrolled": true
   },
   "outputs": [
    {
     "name": "stdout",
     "output_type": "stream",
     "text": [
      "Before ReLU: tensor([[ 5.2517e-02, -2.5492e-01,  4.2189e-01, -2.4355e-01, -4.3206e-01,\n",
      "          2.3447e-01, -6.7290e-01,  1.7310e-01,  2.9537e-01, -2.4198e-01,\n",
      "         -2.1068e-01, -1.5239e-01,  9.0994e-02,  2.1053e-01,  6.1449e-01,\n",
      "          5.0264e-02, -9.4476e-01,  4.3968e-01,  8.8721e-02,  2.2579e-01],\n",
      "        [ 1.5024e-01,  6.0795e-02,  4.3883e-01,  1.0533e-02, -3.8323e-01,\n",
      "          2.0887e-01, -5.0447e-01,  7.3645e-04, -2.4119e-01, -2.4589e-01,\n",
      "         -2.4562e-01, -2.1657e-01,  3.3304e-01,  2.2041e-01,  3.1391e-01,\n",
      "         -2.6015e-01, -1.0697e+00,  2.7525e-01,  4.8976e-02,  3.4419e-01],\n",
      "        [-1.4847e-01, -1.8228e-01,  7.6512e-01, -3.1477e-01, -3.2517e-01,\n",
      "          2.8594e-01, -4.6954e-01, -4.8941e-02, -4.3632e-01, -8.6270e-02,\n",
      "         -1.0882e-01, -3.5106e-01,  4.2489e-01,  2.4054e-01,  2.0445e-01,\n",
      "         -2.8180e-02, -9.8174e-01,  3.0383e-01,  2.2015e-01,  4.2332e-01]],\n",
      "       grad_fn=<AddmmBackward0>)\n",
      "\n",
      "\n",
      "After ReLU: tensor([[5.2517e-02, 0.0000e+00, 4.2189e-01, 0.0000e+00, 0.0000e+00, 2.3447e-01,\n",
      "         0.0000e+00, 1.7310e-01, 2.9537e-01, 0.0000e+00, 0.0000e+00, 0.0000e+00,\n",
      "         9.0994e-02, 2.1053e-01, 6.1449e-01, 5.0264e-02, 0.0000e+00, 4.3968e-01,\n",
      "         8.8721e-02, 2.2579e-01],\n",
      "        [1.5024e-01, 6.0795e-02, 4.3883e-01, 1.0533e-02, 0.0000e+00, 2.0887e-01,\n",
      "         0.0000e+00, 7.3645e-04, 0.0000e+00, 0.0000e+00, 0.0000e+00, 0.0000e+00,\n",
      "         3.3304e-01, 2.2041e-01, 3.1391e-01, 0.0000e+00, 0.0000e+00, 2.7525e-01,\n",
      "         4.8976e-02, 3.4419e-01],\n",
      "        [0.0000e+00, 0.0000e+00, 7.6512e-01, 0.0000e+00, 0.0000e+00, 2.8594e-01,\n",
      "         0.0000e+00, 0.0000e+00, 0.0000e+00, 0.0000e+00, 0.0000e+00, 0.0000e+00,\n",
      "         4.2489e-01, 2.4054e-01, 2.0445e-01, 0.0000e+00, 0.0000e+00, 3.0383e-01,\n",
      "         2.2015e-01, 4.2332e-01]], grad_fn=<ReluBackward0>)\n"
     ]
    }
   ],
   "source": [
    "print(f\"Before ReLU: {hidden1}\\n\\n\")\n",
    "hidden1 = nn.ReLU()(hidden1)\n",
    "print(f\"After ReLU: {hidden1}\")"
   ]
  },
  {
   "cell_type": "markdown",
   "metadata": {},
   "source": [
    "### nn.Sequential\n",
    "\n",
    "`nn.Sequential` is an ordered \n",
    "container of modules. The data is passed through all the modules in their defined order. You can use\n",
    "sequential containers to put together a quick network like `seq_modules`."
   ]
  },
  {
   "cell_type": "code",
   "execution_count": 11,
   "metadata": {},
   "outputs": [],
   "source": [
    "seq_modules = nn.Sequential(\n",
    "    flatten,\n",
    "    layer1,\n",
    "    nn.ReLU(),\n",
    "    nn.Linear(20, 10)\n",
    ")\n",
    "input_image = torch.rand(3,28,28)\n",
    "logits = seq_modules(input_image)"
   ]
  },
  {
   "cell_type": "markdown",
   "metadata": {},
   "source": [
    "### nn.Softmax\n",
    "\n",
    "The last linear layer of the neural network returns `logits` (the raw values in \\[`-infty`, `infty`]), which are passed to the\n",
    "`nn.Softmax` module. The Softmax activation function is used to calculate the probability of the output from the neural network. It is only used on the output layer of a neural network. The results are scaled to values \\[0, 1\\] representing the model's predicted densities for each class. The `dim` parameter indicates the dimension along which the result values must sum to 1. The node with the highest probability predicts the desired output.\n",
    "\n",
    "<img alt=\"Diagram shows softmax formula\" src=\"../images/4-model-4.png\" />"
   ]
  },
  {
   "cell_type": "code",
   "execution_count": 12,
   "metadata": {},
   "outputs": [],
   "source": [
    "softmax = nn.Softmax(dim=1)\n",
    "pred_probab = softmax(logits)"
   ]
  },
  {
   "cell_type": "markdown",
   "metadata": {},
   "source": [
    "## Model parameters\n",
    "\n",
    "Many layers inside a neural network are *parameterized*, that is, the layers have associated weights \n",
    "and biases that are optimized during training. Subclassing `nn.Module` automatically \n",
    "tracks all fields defined inside your model object, and makes all parameters \n",
    "accessible using your model's `parameters()` or `named_parameters()` methods.\n",
    "\n",
    "In this example, we iterate over each parameter, and print its size and a preview of its values."
   ]
  },
  {
   "cell_type": "code",
   "execution_count": 13,
   "metadata": {
    "scrolled": true
   },
   "outputs": [
    {
     "name": "stdout",
     "output_type": "stream",
     "text": [
      "Model structure:  NeuralNetwork(\n",
      "  (flatten): Flatten(start_dim=1, end_dim=-1)\n",
      "  (linear_relu_stack): Sequential(\n",
      "    (0): Linear(in_features=784, out_features=512, bias=True)\n",
      "    (1): ReLU()\n",
      "    (2): Linear(in_features=512, out_features=512, bias=True)\n",
      "    (3): ReLU()\n",
      "    (4): Linear(in_features=512, out_features=10, bias=True)\n",
      "    (5): ReLU()\n",
      "  )\n",
      ") \n",
      "\n",
      "\n",
      "Layer: linear_relu_stack.0.weight | Size: torch.Size([512, 784]) | Values : tensor([[ 0.0167, -0.0009, -0.0336,  ...,  0.0272,  0.0033, -0.0320],\n",
      "        [ 0.0187,  0.0308, -0.0194,  ..., -0.0350,  0.0014,  0.0199]],\n",
      "       device='cuda:0', grad_fn=<SliceBackward0>) \n",
      "\n",
      "Layer: linear_relu_stack.0.bias | Size: torch.Size([512]) | Values : tensor([-0.0246,  0.0210], device='cuda:0', grad_fn=<SliceBackward0>) \n",
      "\n",
      "Layer: linear_relu_stack.2.weight | Size: torch.Size([512, 512]) | Values : tensor([[ 0.0128,  0.0222, -0.0393,  ..., -0.0250,  0.0420,  0.0109],\n",
      "        [-0.0027, -0.0214, -0.0426,  ..., -0.0016, -0.0112, -0.0413]],\n",
      "       device='cuda:0', grad_fn=<SliceBackward0>) \n",
      "\n",
      "Layer: linear_relu_stack.2.bias | Size: torch.Size([512]) | Values : tensor([ 0.0064, -0.0231], device='cuda:0', grad_fn=<SliceBackward0>) \n",
      "\n",
      "Layer: linear_relu_stack.4.weight | Size: torch.Size([10, 512]) | Values : tensor([[ 0.0432,  0.0107,  0.0371,  ..., -0.0249, -0.0232, -0.0125],\n",
      "        [ 0.0344, -0.0302,  0.0391,  ..., -0.0212, -0.0404,  0.0147]],\n",
      "       device='cuda:0', grad_fn=<SliceBackward0>) \n",
      "\n",
      "Layer: linear_relu_stack.4.bias | Size: torch.Size([10]) | Values : tensor([0.0090, 0.0236], device='cuda:0', grad_fn=<SliceBackward0>) \n",
      "\n"
     ]
    }
   ],
   "source": [
    "print(\"Model structure: \", model, \"\\n\\n\")\n",
    "\n",
    "for name, param in model.named_parameters():\n",
    "    print(f\"Layer: {name} | Size: {param.size()} | Values : {param[:2]} \\n\")"
   ]
  }
 ],
 "metadata": {
  "kernelspec": {
   "display_name": "Python 3 (ipykernel)",
   "language": "python",
   "name": "python3"
  },
  "language_info": {
   "codemirror_mode": {
    "name": "ipython",
    "version": 3
   },
   "file_extension": ".py",
   "mimetype": "text/x-python",
   "name": "python",
   "nbconvert_exporter": "python",
   "pygments_lexer": "ipython3",
   "version": "3.8.10"
  },
  "nteract": {
   "version": "nteract-front-end@1.0.0"
  }
 },
 "nbformat": 4,
 "nbformat_minor": 4
}
